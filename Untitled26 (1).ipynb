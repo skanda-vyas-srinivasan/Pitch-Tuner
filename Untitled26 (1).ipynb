{
  "nbformat": 4,
  "nbformat_minor": 0,
  "metadata": {
    "colab": {
      "provenance": []
    },
    "kernelspec": {
      "name": "python3",
      "display_name": "Python 3"
    },
    "language_info": {
      "name": "python"
    }
  },
  "cells": [
    {
      "cell_type": "code",
      "source": [
        "!pip install librosa numpy scipy music21 flask-ngrok\n",
        "!pip install resampy"
      ],
      "metadata": {
        "id": "bXynXbv0a5fS"
      },
      "execution_count": null,
      "outputs": []
    },
    {
      "cell_type": "code",
      "source": [
        "from google.colab import files\n",
        "import librosa\n",
        "import librosa.effects\n",
        "import resampy\n",
        "import numpy as np\n",
        "import json\n",
        "import sys"
      ],
      "metadata": {
        "id": "tagIcLQH7kif"
      },
      "execution_count": 1,
      "outputs": []
    },
    {
      "cell_type": "code",
      "execution_count": null,
      "metadata": {
        "id": "0g3wfl6Cav8T"
      },
      "outputs": [],
      "source": [
        "uploaded = files.upload()\n",
        "filename = list(uploaded.keys())[0]\n",
        "print(f\"Uploaded file: {filename}\")"
      ]
    },
    {
      "cell_type": "code",
      "source": [
        "y, sr = librosa.load(filename, sr=None)\n",
        "\n",
        "\n",
        "chroma = librosa.feature.chroma_stft(y=y, sr=sr)\n",
        "chroma_mean = np.mean(chroma, axis=1)\n",
        "\n",
        "\n",
        "key_estimation = librosa.feature.chroma_cens(y=y, sr=sr)\n",
        "key_index = np.argmax(np.mean(key_estimation, axis=1))\n",
        "key_names = [\"C\", \"C#\", \"D\", \"keyD#\", \"E\", \"F\", \"F#\", \"G\", \"G#\", \"A\", \"A#\", \"B\"]\n",
        "detected_key = key_names[key_index]\n",
        "\n",
        "tuning_offset = librosa.estimate_tuning(y=y, sr=sr) * 100\n",
        "\n",
        "results = {\n",
        "    \"detected_key\": detected_key,\n",
        "    \"detuned_by\": f\" {'+' if tuning_offset > 0 else '-'} {abs(tuning_offset):.2f} cents\"\n",
        "}\n",
        "\n",
        "print(f\"Detected Key: {detected_key}\")\n",
        "print(f\"Detuned by: {results['detuned_by']}\")\n",
        "#print(json.dumps(results, indent=4))\n",
        "\n"
      ],
      "metadata": {
        "id": "SqifVh9la_1v"
      },
      "execution_count": null,
      "outputs": []
    },
    {
      "cell_type": "code",
      "source": [
        "import librosa.effects\n",
        "import resampy\n",
        "\n",
        "semitones_shift = - (tuning_offset / 100)\n",
        "\n",
        "inp = input(\"Choose key \\n\")\n",
        "if(not inp.upper() in key_names):\n",
        "  print(\"Not a valid key\")\n",
        "  sys.exit()\n",
        "\n",
        "extra_shift = key_names.index(inp.upper()) - key_names.index(detected_key)\n",
        "print(extra_shift)\n",
        "semitones_shift += extra_shift\n",
        "print(semitones_shift)\n",
        "\n",
        "y_fixed = librosa.effects.pitch_shift(y=y, sr=sr, n_steps=semitones_shift, res_type='kaiser_best')\n",
        "\n",
        "print(f\"pitch shifted by {semitones_shift:.2f} \")\n",
        "\n",
        "import soundfile as sf\n",
        "fixed_filename = filename +\"_fixed.wav\"\n",
        "sf.write(fixed_filename, y_fixed, sr)\n",
        "\n",
        "print(f\"beat downloading:  '{fixed_filename}'\")"
      ],
      "metadata": {
        "id": "kaXmvHwBdr3W"
      },
      "execution_count": null,
      "outputs": []
    }
  ]
}